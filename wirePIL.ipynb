{
 "metadata": {
  "name": "wirePIL"
 },
 "nbformat": 3,
 "nbformat_minor": 0,
 "worksheets": [
  {
   "cells": [
    {
     "cell_type": "heading",
     "level": 1,
     "metadata": {},
     "source": [
      "WMCKEE PIL EDITZ"
     ]
    },
    {
     "cell_type": "raw",
     "metadata": {},
     "source": [
      "Opens up images and edits them"
     ]
    },
    {
     "cell_type": "code",
     "collapsed": false,
     "input": [
      "from PIL import Image\n",
      "from PIL import ImageEnhance\n",
      "from PIL import ImageDraw\n",
      "import random\n",
      "import os\n",
      "from PIL import ImageChops\n",
      "import cocos\n"
     ],
     "language": "python",
     "metadata": {},
     "outputs": [],
     "prompt_number": 2342
    },
    {
     "cell_type": "code",
     "collapsed": false,
     "input": [
      "os.chdir('/home/will/Desktop/output/')"
     ],
     "language": "python",
     "metadata": {},
     "outputs": [],
     "prompt_number": 2343
    },
    {
     "cell_type": "code",
     "collapsed": false,
     "input": [
      "chdirz = random.choice(os.listdir('/home/will/Desktop/output/'))"
     ],
     "language": "python",
     "metadata": {},
     "outputs": [],
     "prompt_number": 2344
    },
    {
     "cell_type": "code",
     "collapsed": false,
     "input": [
      "chdirz2 = random.choice(os.listdir('/home/will/Desktop/output/'))"
     ],
     "language": "python",
     "metadata": {},
     "outputs": [],
     "prompt_number": 2345
    },
    {
     "cell_type": "code",
     "collapsed": false,
     "input": [
      "img2 = Image.open(chdirz)"
     ],
     "language": "python",
     "metadata": {},
     "outputs": [],
     "prompt_number": 2346
    },
    {
     "cell_type": "code",
     "collapsed": false,
     "input": [
      "imgza2 = Image.open(chdirz)"
     ],
     "language": "python",
     "metadata": {},
     "outputs": [],
     "prompt_number": 2347
    },
    {
     "cell_type": "code",
     "collapsed": false,
     "input": [
      "imgAgain = img2.rotate(180)"
     ],
     "language": "python",
     "metadata": {},
     "outputs": [],
     "prompt_number": 2348
    },
    {
     "cell_type": "code",
     "collapsed": false,
     "input": [
      "imgSapz = ImageChops.lighter(imgAgain, img2)"
     ],
     "language": "python",
     "metadata": {},
     "outputs": [],
     "prompt_number": 2349
    },
    {
     "cell_type": "code",
     "collapsed": false,
     "input": [
      "imgCepz = ImageChops.darker(imgza2, imgSapz)"
     ],
     "language": "python",
     "metadata": {},
     "outputs": [],
     "prompt_number": 2350
    },
    {
     "cell_type": "code",
     "collapsed": false,
     "input": [
      "enzSapz = ImageChops.subtract(imgSapz, img2)"
     ],
     "language": "python",
     "metadata": {},
     "outputs": [],
     "prompt_number": 2351
    },
    {
     "cell_type": "code",
     "collapsed": false,
     "input": [
      "enzSapz.save('edit.jpg')"
     ],
     "language": "python",
     "metadata": {},
     "outputs": [],
     "prompt_number": 2352
    },
    {
     "cell_type": "code",
     "collapsed": false,
     "input": [
      "imgLower = ImageChops.constant(imgAgain, 2)"
     ],
     "language": "python",
     "metadata": {},
     "outputs": [],
     "prompt_number": 2353
    },
    {
     "cell_type": "code",
     "collapsed": false,
     "input": [
      "imgOver = ImageEnhance.Brightness(imgLower)"
     ],
     "language": "python",
     "metadata": {},
     "outputs": [],
     "prompt_number": 2354
    },
    {
     "cell_type": "code",
     "collapsed": false,
     "input": [
      "img4 = Image.open('edit.jpg')"
     ],
     "language": "python",
     "metadata": {},
     "outputs": [],
     "prompt_number": 2355
    },
    {
     "cell_type": "code",
     "collapsed": false,
     "input": [
      "imgNever = ImageChops.blend(img4, imgAgain, .5)"
     ],
     "language": "python",
     "metadata": {},
     "outputs": [],
     "prompt_number": 2356
    },
    {
     "cell_type": "code",
     "collapsed": false,
     "input": [
      "imgTitle = Image.open(chdirz)"
     ],
     "language": "python",
     "metadata": {},
     "outputs": [],
     "prompt_number": 2357
    },
    {
     "cell_type": "code",
     "collapsed": false,
     "input": [
      "imgComt = ImageChops.blend(imgTitle, imgNever, .5)"
     ],
     "language": "python",
     "metadata": {},
     "outputs": [],
     "prompt_number": 2358
    },
    {
     "cell_type": "code",
     "collapsed": false,
     "input": [
      "imgConvertz = ImageEnhance.Color(imgComt)"
     ],
     "language": "python",
     "metadata": {},
     "outputs": [],
     "prompt_number": 2359
    },
    {
     "cell_type": "code",
     "collapsed": false,
     "input": [
      "img3 = ImageChops.screen(imgNever, img2)"
     ],
     "language": "python",
     "metadata": {},
     "outputs": [],
     "prompt_number": 2360
    },
    {
     "cell_type": "code",
     "collapsed": false,
     "input": [
      "\n",
      "bighImg = ImageChops.darker(img2, imgNever)"
     ],
     "language": "python",
     "metadata": {},
     "outputs": [],
     "prompt_number": 2361
    },
    {
     "cell_type": "code",
     "collapsed": false,
     "input": [
      "screen = ImageChops.difference(imgAgain,img2)"
     ],
     "language": "python",
     "metadata": {},
     "outputs": [],
     "prompt_number": 2362
    },
    {
     "cell_type": "code",
     "collapsed": false,
     "input": [
      "screen.save('edit.jpg')"
     ],
     "language": "python",
     "metadata": {},
     "outputs": [],
     "prompt_number": 2363
    },
    {
     "cell_type": "code",
     "collapsed": false,
     "input": [
      "brightLight = ImageEnhance.Brightness(screen)\n",
      "\n"
     ],
     "language": "python",
     "metadata": {},
     "outputs": [],
     "prompt_number": 2364
    },
    {
     "cell_type": "code",
     "collapsed": false,
     "input": [
      "openFilz = Image.open('edit.jpg')"
     ],
     "language": "python",
     "metadata": {},
     "outputs": [],
     "prompt_number": 2365
    },
    {
     "cell_type": "code",
     "collapsed": false,
     "input": [
      "lightFilz = ImageChops.lighter(screen, img2)"
     ],
     "language": "python",
     "metadata": {},
     "outputs": [],
     "prompt_number": 2366
    },
    {
     "cell_type": "code",
     "collapsed": false,
     "input": [
      "imgSwap = ImageChops.difference(lightFilz, img2)"
     ],
     "language": "python",
     "metadata": {},
     "outputs": [],
     "prompt_number": 2367
    },
    {
     "cell_type": "code",
     "collapsed": false,
     "input": [
      "lightXus = ImageChops.darker(img2, imgSwap)\n"
     ],
     "language": "python",
     "metadata": {},
     "outputs": [],
     "prompt_number": 2368
    },
    {
     "cell_type": "code",
     "collapsed": false,
     "input": [
      "lightGone = ImageChops.invert(lightXus)"
     ],
     "language": "python",
     "metadata": {},
     "outputs": [],
     "prompt_number": 2369
    },
    {
     "cell_type": "code",
     "collapsed": false,
     "input": [
      "fileSwap = ImageChops.lighter(lightGone, img2)"
     ],
     "language": "python",
     "metadata": {},
     "outputs": [],
     "prompt_number": 2370
    },
    {
     "cell_type": "code",
     "collapsed": false,
     "input": [
      "draw = ImageDraw.Draw(lightFilz)"
     ],
     "language": "python",
     "metadata": {},
     "outputs": [],
     "prompt_number": 2371
    },
    {
     "cell_type": "code",
     "collapsed": false,
     "input": [
      "bakColr = (183,203,235)"
     ],
     "language": "python",
     "metadata": {},
     "outputs": [],
     "prompt_number": 2372
    },
    {
     "cell_type": "code",
     "collapsed": false,
     "input": [
      "draw.rectangle([(0, 0), (1920, 150)], fill='black')"
     ],
     "language": "python",
     "metadata": {},
     "outputs": [],
     "prompt_number": 2373
    },
    {
     "cell_type": "code",
     "collapsed": false,
     "input": [
      "draw.rectangle([(0, 500), (1920, 1080)], fill='black')"
     ],
     "language": "python",
     "metadata": {},
     "outputs": [],
     "prompt_number": 2374
    },
    {
     "cell_type": "code",
     "collapsed": false,
     "input": [
      "draw.rectangle([(90, 190), (370, 220)], fill=bakColr)"
     ],
     "language": "python",
     "metadata": {},
     "outputs": [],
     "prompt_number": 2375
    },
    {
     "cell_type": "code",
     "collapsed": false,
     "input": [
      "draw.rectangle([(390, 290), (740, 320)], fill=bakColr)"
     ],
     "language": "python",
     "metadata": {},
     "outputs": [],
     "prompt_number": 2376
    },
    {
     "cell_type": "code",
     "collapsed": false,
     "input": [
      "draw.rectangle([(590, 390), (1100, 420)], fill=bakColr)"
     ],
     "language": "python",
     "metadata": {},
     "outputs": [],
     "prompt_number": 2377
    },
    {
     "cell_type": "code",
     "collapsed": false,
     "input": [
      "del draw "
     ],
     "language": "python",
     "metadata": {},
     "outputs": [],
     "prompt_number": 2378
    },
    {
     "cell_type": "code",
     "collapsed": false,
     "input": [
      "img2.save(\"hello.PNG\")"
     ],
     "language": "python",
     "metadata": {},
     "outputs": [],
     "prompt_number": 2379
    },
    {
     "cell_type": "code",
     "collapsed": false,
     "input": [
      "helloz = Image.open(\"hello.PNG\")"
     ],
     "language": "python",
     "metadata": {},
     "outputs": [],
     "prompt_number": 2380
    },
    {
     "cell_type": "code",
     "collapsed": false,
     "input": [
      "os.chdir('/home/will/Desktop/newOut')"
     ],
     "language": "python",
     "metadata": {},
     "outputs": [],
     "prompt_number": 2381
    },
    {
     "cell_type": "code",
     "collapsed": false,
     "input": [
      "cRan = random.randint(1,30)"
     ],
     "language": "python",
     "metadata": {},
     "outputs": [],
     "prompt_number": 2382
    },
    {
     "cell_type": "code",
     "collapsed": false,
     "input": [
      "import ImageFont, ImageDraw\n",
      "\n",
      "draw = ImageDraw.Draw(lightFilz)\n",
      "# use a truetype font\n",
      "font = ImageFont.truetype(\"cs.ttf\", 24)\n",
      "draw.text((100, 200), \"a film by William Mckee\", fill=(49,cRan,2),font=font)\n",
      "draw.text((400, 300), 'Suburb Nightmare: Mist City', fill =(49,3,cRan),font=font)\n",
      "draw.text((600, 400), 'Based on the game: Suburb Warp Nighmare', fill=(cRan,3,2), font=font)\n",
      "\n"
     ],
     "language": "python",
     "metadata": {},
     "outputs": [],
     "prompt_number": 2383
    },
    {
     "cell_type": "code",
     "collapsed": false,
     "input": [
      "imgSwapz = ImageChops.difference(img2, fileSwap)"
     ],
     "language": "python",
     "metadata": {},
     "outputs": [],
     "prompt_number": 2384
    },
    {
     "cell_type": "code",
     "collapsed": false,
     "input": [
      "lightFilz.save(chdirz)"
     ],
     "language": "python",
     "metadata": {},
     "outputs": [],
     "prompt_number": 2385
    },
    {
     "cell_type": "code",
     "collapsed": false,
     "input": [
      "lightFilz.show()"
     ],
     "language": "python",
     "metadata": {},
     "outputs": [],
     "prompt_number": 2386
    },
    {
     "cell_type": "code",
     "collapsed": false,
     "input": [
      "imgBlack = ImageChops.darker(imgSwapz, imgNever)"
     ],
     "language": "python",
     "metadata": {},
     "outputs": [],
     "prompt_number": 2387
    },
    {
     "cell_type": "code",
     "collapsed": false,
     "input": [
      "imgZero = ImageChops.invert(imgBlack)"
     ],
     "language": "python",
     "metadata": {},
     "outputs": [],
     "prompt_number": 2388
    }
   ],
   "metadata": {}
  }
 ]
}