{
 "metadata": {
  "name": "wirePIL"
 },
 "nbformat": 3,
 "nbformat_minor": 0,
 "worksheets": [
  {
   "cells": [
    {
     "cell_type": "heading",
     "level": 1,
     "metadata": {},
     "source": [
      "WMCKEE PIL EDITZ"
     ]
    },
    {
     "cell_type": "raw",
     "metadata": {},
     "source": [
      "Opens up images and edits them"
     ]
    },
    {
     "cell_type": "code",
     "collapsed": false,
     "input": [
      "from PIL import Image\n",
      "from PIL import ImageEnhance\n",
      "from PIL import ImageDraw\n",
      "import random\n",
      "import os\n",
      "from PIL import ImageChops\n"
     ],
     "language": "python",
     "metadata": {},
     "outputs": [],
     "prompt_number": 24
    },
    {
     "cell_type": "code",
     "collapsed": false,
     "input": [
      "class Backup(object):\n",
      "    def findfiles(self, filestring):\n",
      "        filecur = os.listdir(os.curdir)\n",
      "        for filename in filecur:\n",
      "            if filestring in filename:\n",
      "                yield filename"
     ],
     "language": "python",
     "metadata": {},
     "outputs": [],
     "prompt_number": 25
    },
    {
     "cell_type": "code",
     "collapsed": false,
     "input": [
      "app = Backup()"
     ],
     "language": "python",
     "metadata": {},
     "outputs": [],
     "prompt_number": 26
    },
    {
     "cell_type": "code",
     "collapsed": false,
     "input": [
      "photolist = []"
     ],
     "language": "python",
     "metadata": {},
     "outputs": [],
     "prompt_number": 35
    },
    {
     "cell_type": "code",
     "collapsed": false,
     "input": [
      "for aviz in app.findfiles('150x150'):\n",
      "    photolist.append(aviz)"
     ],
     "language": "python",
     "metadata": {},
     "outputs": [],
     "prompt_number": 36
    },
    {
     "cell_type": "code",
     "collapsed": false,
     "input": [
      "print aviz\n",
      "print photolist"
     ],
     "language": "python",
     "metadata": {},
     "outputs": [
      {
       "output_type": "stream",
       "stream": "stdout",
       "text": [
        "wpid-wp-1373118146320-150x150.jpg\n",
        "['JULY-ZOMBIE-BW-Large-150x150.png', 'wpid-IMG_20130710_234746-150x150.jpg', 'cropped-path4604-150x150.png', 'DSC_0211-150x150.jpg', 'JULY-ZOMBIE-COLOR-Large-150x150.png', 'wpid-wp-1373118119890-150x150.jpg', 'JULY-ZOMBIE-LINE-Large-150x150.png', 'DSC_0214-150x150.jpg', 'DSC_0215-150x150.jpg', 'DSC_0210-150x150.jpg', 'wpid-wp-1373118186264-150x150.jpg', 'wpid-IMG_20130710_233754-150x150.jpg', 'wpid-1372989032381-150x150.jpg', 'wpid-wp-1373118146320-150x150.jpg']\n"
       ]
      }
     ],
     "prompt_number": 37
    },
    {
     "cell_type": "code",
     "collapsed": false,
     "input": [
      "len(photolist)"
     ],
     "language": "python",
     "metadata": {},
     "outputs": [
      {
       "output_type": "pyout",
       "prompt_number": 41,
       "text": [
        "14"
       ]
      }
     ],
     "prompt_number": 41
    },
    {
     "cell_type": "code",
     "collapsed": false,
     "input": [
      "artimgs = ('/home/wcmckee/Pictures/artcontrol/wp-content/uploads/2013/07')"
     ],
     "language": "python",
     "metadata": {},
     "outputs": [],
     "prompt_number": 28
    },
    {
     "cell_type": "code",
     "collapsed": false,
     "input": [
      "os.chdir(artimgs)"
     ],
     "language": "python",
     "metadata": {},
     "outputs": [],
     "prompt_number": 9
    },
    {
     "cell_type": "code",
     "collapsed": false,
     "input": [
      "chdirz = random.choice(os.listdir(artimgs))"
     ],
     "language": "python",
     "metadata": {},
     "outputs": [],
     "prompt_number": 10
    },
    {
     "cell_type": "code",
     "collapsed": false,
     "input": [
      "chdirz2 = random.choice(os.listdir(artimgs))"
     ],
     "language": "python",
     "metadata": {},
     "outputs": [],
     "prompt_number": 11
    },
    {
     "cell_type": "code",
     "collapsed": false,
     "input": [
      "img2 = Image.open(chdirz)"
     ],
     "language": "python",
     "metadata": {},
     "outputs": [],
     "prompt_number": 12
    },
    {
     "cell_type": "code",
     "collapsed": false,
     "input": [
      "imgza2 = Image.open(chdirz)"
     ],
     "language": "python",
     "metadata": {},
     "outputs": [],
     "prompt_number": 13
    },
    {
     "cell_type": "code",
     "collapsed": false,
     "input": [
      "imgAgain = img2.rotate(180)"
     ],
     "language": "python",
     "metadata": {},
     "outputs": [],
     "prompt_number": 14
    },
    {
     "cell_type": "code",
     "collapsed": false,
     "input": [
      "imgSapz = ImageChops.lighter(imgAgain, img2)"
     ],
     "language": "python",
     "metadata": {},
     "outputs": [],
     "prompt_number": 15
    },
    {
     "cell_type": "code",
     "collapsed": false,
     "input": [
      "imgCepz = ImageChops.darker(imgza2, imgSapz)"
     ],
     "language": "python",
     "metadata": {},
     "outputs": [],
     "prompt_number": 16
    },
    {
     "cell_type": "code",
     "collapsed": false,
     "input": [
      "enzSapz = ImageChops.subtract(imgSapz, img2)"
     ],
     "language": "python",
     "metadata": {},
     "outputs": [],
     "prompt_number": 17
    },
    {
     "cell_type": "code",
     "collapsed": false,
     "input": [
      "enzSapz.save('edit.jpg')"
     ],
     "language": "python",
     "metadata": {},
     "outputs": [],
     "prompt_number": 18
    },
    {
     "cell_type": "code",
     "collapsed": false,
     "input": [
      "imgLower = ImageChops.constant(imgAgain, 2)"
     ],
     "language": "python",
     "metadata": {},
     "outputs": [],
     "prompt_number": 19
    },
    {
     "cell_type": "code",
     "collapsed": false,
     "input": [
      "imgOver = ImageEnhance.Brightness(imgLower)"
     ],
     "language": "python",
     "metadata": {},
     "outputs": [],
     "prompt_number": 20
    },
    {
     "cell_type": "code",
     "collapsed": false,
     "input": [
      "img4 = Image.open('edit.jpg')"
     ],
     "language": "python",
     "metadata": {},
     "outputs": [],
     "prompt_number": 21
    },
    {
     "cell_type": "code",
     "collapsed": false,
     "input": [
      "imgNever = ImageChops.blend(img4, imgAgain, .5)"
     ],
     "language": "python",
     "metadata": {},
     "outputs": [
      {
       "ename": "ValueError",
       "evalue": "images do not match",
       "output_type": "pyerr",
       "traceback": [
        "\u001b[1;31m---------------------------------------------------------------------------\u001b[0m\n\u001b[1;31mValueError\u001b[0m                                Traceback (most recent call last)",
        "\u001b[1;32m<ipython-input-22-aa706f946102>\u001b[0m in \u001b[0;36m<module>\u001b[1;34m()\u001b[0m\n\u001b[1;32m----> 1\u001b[1;33m \u001b[0mimgNever\u001b[0m \u001b[1;33m=\u001b[0m \u001b[0mImageChops\u001b[0m\u001b[1;33m.\u001b[0m\u001b[0mblend\u001b[0m\u001b[1;33m(\u001b[0m\u001b[0mimg4\u001b[0m\u001b[1;33m,\u001b[0m \u001b[0mimgAgain\u001b[0m\u001b[1;33m,\u001b[0m \u001b[1;36m.5\u001b[0m\u001b[1;33m)\u001b[0m\u001b[1;33m\u001b[0m\u001b[0m\n\u001b[0m",
        "\u001b[1;32m/usr/lib/python2.7/site-packages/PIL/ImageChops.pyc\u001b[0m in \u001b[0;36mblend\u001b[1;34m(image1, image2, alpha)\u001b[0m\n\u001b[0;32m    270\u001b[0m     \u001b[1;34m\"Blend two images using a constant transparency weight\"\u001b[0m\u001b[1;33m\u001b[0m\u001b[0m\n\u001b[0;32m    271\u001b[0m \u001b[1;33m\u001b[0m\u001b[0m\n\u001b[1;32m--> 272\u001b[1;33m     \u001b[1;32mreturn\u001b[0m \u001b[0mImage\u001b[0m\u001b[1;33m.\u001b[0m\u001b[0mblend\u001b[0m\u001b[1;33m(\u001b[0m\u001b[0mimage1\u001b[0m\u001b[1;33m,\u001b[0m \u001b[0mimage2\u001b[0m\u001b[1;33m,\u001b[0m \u001b[0malpha\u001b[0m\u001b[1;33m)\u001b[0m\u001b[1;33m\u001b[0m\u001b[0m\n\u001b[0m\u001b[0;32m    273\u001b[0m \u001b[1;33m\u001b[0m\u001b[0m\n\u001b[0;32m    274\u001b[0m \u001b[1;31m##\u001b[0m\u001b[1;33m\u001b[0m\u001b[1;33m\u001b[0m\u001b[0m\n",
        "\u001b[1;32m/usr/lib/python2.7/site-packages/PIL/Image.pyc\u001b[0m in \u001b[0;36mblend\u001b[1;34m(im1, im2, alpha)\u001b[0m\n\u001b[0;32m   2045\u001b[0m     \u001b[0mim1\u001b[0m\u001b[1;33m.\u001b[0m\u001b[0mload\u001b[0m\u001b[1;33m(\u001b[0m\u001b[1;33m)\u001b[0m\u001b[1;33m\u001b[0m\u001b[0m\n\u001b[0;32m   2046\u001b[0m     \u001b[0mim2\u001b[0m\u001b[1;33m.\u001b[0m\u001b[0mload\u001b[0m\u001b[1;33m(\u001b[0m\u001b[1;33m)\u001b[0m\u001b[1;33m\u001b[0m\u001b[0m\n\u001b[1;32m-> 2047\u001b[1;33m     \u001b[1;32mreturn\u001b[0m \u001b[0mim1\u001b[0m\u001b[1;33m.\u001b[0m\u001b[0m_new\u001b[0m\u001b[1;33m(\u001b[0m\u001b[0mcore\u001b[0m\u001b[1;33m.\u001b[0m\u001b[0mblend\u001b[0m\u001b[1;33m(\u001b[0m\u001b[0mim1\u001b[0m\u001b[1;33m.\u001b[0m\u001b[0mim\u001b[0m\u001b[1;33m,\u001b[0m \u001b[0mim2\u001b[0m\u001b[1;33m.\u001b[0m\u001b[0mim\u001b[0m\u001b[1;33m,\u001b[0m \u001b[0malpha\u001b[0m\u001b[1;33m)\u001b[0m\u001b[1;33m)\u001b[0m\u001b[1;33m\u001b[0m\u001b[0m\n\u001b[0m\u001b[0;32m   2048\u001b[0m \u001b[1;33m\u001b[0m\u001b[0m\n\u001b[0;32m   2049\u001b[0m \u001b[1;33m\u001b[0m\u001b[0m\n",
        "\u001b[1;31mValueError\u001b[0m: images do not match"
       ]
      }
     ],
     "prompt_number": 22
    },
    {
     "cell_type": "code",
     "collapsed": false,
     "input": [
      "imgTitle = Image.open(chdirz)"
     ],
     "language": "python",
     "metadata": {},
     "outputs": [],
     "prompt_number": 23
    },
    {
     "cell_type": "code",
     "collapsed": false,
     "input": [
      "imgComt = ImageChops.blend(imgTitle, imgNever, .5)"
     ],
     "language": "python",
     "metadata": {},
     "outputs": [],
     "prompt_number": 2358
    },
    {
     "cell_type": "code",
     "collapsed": false,
     "input": [
      "imgConvertz = ImageEnhance.Color(imgComt)"
     ],
     "language": "python",
     "metadata": {},
     "outputs": [],
     "prompt_number": 2359
    },
    {
     "cell_type": "code",
     "collapsed": false,
     "input": [
      "img3 = ImageChops.screen(imgNever, img2)"
     ],
     "language": "python",
     "metadata": {},
     "outputs": [],
     "prompt_number": 2360
    },
    {
     "cell_type": "code",
     "collapsed": false,
     "input": [
      "\n",
      "bighImg = ImageChops.darker(img2, imgNever)"
     ],
     "language": "python",
     "metadata": {},
     "outputs": [],
     "prompt_number": 2361
    },
    {
     "cell_type": "code",
     "collapsed": false,
     "input": [
      "screen = ImageChops.difference(imgAgain,img2)"
     ],
     "language": "python",
     "metadata": {},
     "outputs": [],
     "prompt_number": 2362
    },
    {
     "cell_type": "code",
     "collapsed": false,
     "input": [
      "screen.save('edit.jpg')"
     ],
     "language": "python",
     "metadata": {},
     "outputs": [],
     "prompt_number": 2363
    },
    {
     "cell_type": "code",
     "collapsed": false,
     "input": [
      "brightLight = ImageEnhance.Brightness(screen)\n",
      "\n"
     ],
     "language": "python",
     "metadata": {},
     "outputs": [],
     "prompt_number": 2364
    },
    {
     "cell_type": "code",
     "collapsed": false,
     "input": [
      "openFilz = Image.open('edit.jpg')"
     ],
     "language": "python",
     "metadata": {},
     "outputs": [],
     "prompt_number": 2365
    },
    {
     "cell_type": "code",
     "collapsed": false,
     "input": [
      "lightFilz = ImageChops.lighter(screen, img2)"
     ],
     "language": "python",
     "metadata": {},
     "outputs": [],
     "prompt_number": 2366
    },
    {
     "cell_type": "code",
     "collapsed": false,
     "input": [
      "imgSwap = ImageChops.difference(lightFilz, img2)"
     ],
     "language": "python",
     "metadata": {},
     "outputs": [],
     "prompt_number": 2367
    },
    {
     "cell_type": "code",
     "collapsed": false,
     "input": [
      "lightXus = ImageChops.darker(img2, imgSwap)\n"
     ],
     "language": "python",
     "metadata": {},
     "outputs": [],
     "prompt_number": 2368
    },
    {
     "cell_type": "code",
     "collapsed": false,
     "input": [
      "lightGone = ImageChops.invert(lightXus)"
     ],
     "language": "python",
     "metadata": {},
     "outputs": [],
     "prompt_number": 2369
    },
    {
     "cell_type": "code",
     "collapsed": false,
     "input": [
      "fileSwap = ImageChops.lighter(lightGone, img2)"
     ],
     "language": "python",
     "metadata": {},
     "outputs": [],
     "prompt_number": 2370
    },
    {
     "cell_type": "code",
     "collapsed": false,
     "input": [
      "draw = ImageDraw.Draw(lightFilz)"
     ],
     "language": "python",
     "metadata": {},
     "outputs": [],
     "prompt_number": 2371
    },
    {
     "cell_type": "code",
     "collapsed": false,
     "input": [
      "bakColr = (183,203,235)"
     ],
     "language": "python",
     "metadata": {},
     "outputs": [],
     "prompt_number": 2372
    },
    {
     "cell_type": "code",
     "collapsed": false,
     "input": [
      "draw.rectangle([(0, 0), (1920, 150)], fill='black')"
     ],
     "language": "python",
     "metadata": {},
     "outputs": [],
     "prompt_number": 2373
    },
    {
     "cell_type": "code",
     "collapsed": false,
     "input": [
      "draw.rectangle([(0, 500), (1920, 1080)], fill='black')"
     ],
     "language": "python",
     "metadata": {},
     "outputs": [],
     "prompt_number": 2374
    },
    {
     "cell_type": "code",
     "collapsed": false,
     "input": [
      "draw.rectangle([(90, 190), (370, 220)], fill=bakColr)"
     ],
     "language": "python",
     "metadata": {},
     "outputs": [],
     "prompt_number": 2375
    },
    {
     "cell_type": "code",
     "collapsed": false,
     "input": [
      "draw.rectangle([(390, 290), (740, 320)], fill=bakColr)"
     ],
     "language": "python",
     "metadata": {},
     "outputs": [],
     "prompt_number": 2376
    },
    {
     "cell_type": "code",
     "collapsed": false,
     "input": [
      "draw.rectangle([(590, 390), (1100, 420)], fill=bakColr)"
     ],
     "language": "python",
     "metadata": {},
     "outputs": [],
     "prompt_number": 2377
    },
    {
     "cell_type": "code",
     "collapsed": false,
     "input": [
      "del draw "
     ],
     "language": "python",
     "metadata": {},
     "outputs": [],
     "prompt_number": 2378
    },
    {
     "cell_type": "code",
     "collapsed": false,
     "input": [
      "img2.save(\"hello.PNG\")"
     ],
     "language": "python",
     "metadata": {},
     "outputs": [],
     "prompt_number": 2379
    },
    {
     "cell_type": "code",
     "collapsed": false,
     "input": [
      "helloz = Image.open(\"hello.PNG\")"
     ],
     "language": "python",
     "metadata": {},
     "outputs": [],
     "prompt_number": 2380
    },
    {
     "cell_type": "code",
     "collapsed": false,
     "input": [
      "os.chdir('/home/will/Desktop/newOut')"
     ],
     "language": "python",
     "metadata": {},
     "outputs": [],
     "prompt_number": 2381
    },
    {
     "cell_type": "code",
     "collapsed": false,
     "input": [
      "cRan = random.randint(1,30)"
     ],
     "language": "python",
     "metadata": {},
     "outputs": [],
     "prompt_number": 2382
    },
    {
     "cell_type": "code",
     "collapsed": false,
     "input": [
      "import ImageFont, ImageDraw\n",
      "\n",
      "draw = ImageDraw.Draw(lightFilz)\n",
      "# use a truetype font\n",
      "font = ImageFont.truetype(\"cs.ttf\", 24)\n",
      "draw.text((100, 200), \"a film by William Mckee\", fill=(49,cRan,2),font=font)\n",
      "draw.text((400, 300), 'Suburb Nightmare: Mist City', fill =(49,3,cRan),font=font)\n",
      "draw.text((600, 400), 'Based on the game: Suburb Warp Nighmare', fill=(cRan,3,2), font=font)\n",
      "\n"
     ],
     "language": "python",
     "metadata": {},
     "outputs": [],
     "prompt_number": 2383
    },
    {
     "cell_type": "code",
     "collapsed": false,
     "input": [
      "imgSwapz = ImageChops.difference(img2, fileSwap)"
     ],
     "language": "python",
     "metadata": {},
     "outputs": [],
     "prompt_number": 2384
    },
    {
     "cell_type": "code",
     "collapsed": false,
     "input": [
      "lightFilz.save(chdirz)"
     ],
     "language": "python",
     "metadata": {},
     "outputs": [],
     "prompt_number": 2385
    },
    {
     "cell_type": "code",
     "collapsed": false,
     "input": [
      "lightFilz.show()"
     ],
     "language": "python",
     "metadata": {},
     "outputs": [],
     "prompt_number": 2386
    },
    {
     "cell_type": "code",
     "collapsed": false,
     "input": [
      "imgBlack = ImageChops.darker(imgSwapz, imgNever)"
     ],
     "language": "python",
     "metadata": {},
     "outputs": [],
     "prompt_number": 2387
    },
    {
     "cell_type": "code",
     "collapsed": false,
     "input": [
      "imgZero = ImageChops.invert(imgBlack)"
     ],
     "language": "python",
     "metadata": {},
     "outputs": [],
     "prompt_number": 2388
    }
   ],
   "metadata": {}
  }
 ]
}