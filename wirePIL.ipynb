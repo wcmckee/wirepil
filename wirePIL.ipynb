{
 "metadata": {
  "name": "wirePIL"
 },
 "nbformat": 3,
 "nbformat_minor": 0,
 "worksheets": [
  {
   "cells": [
    {
     "cell_type": "heading",
     "level": 1,
     "metadata": {},
     "source": [
      "WMCKEE PIL EDITZ"
     ]
    },
    {
     "cell_type": "raw",
     "metadata": {},
     "source": [
      "Opens up images and edits them"
     ]
    },
    {
     "cell_type": "code",
     "collapsed": false,
     "input": [
      "from PIL import Image\n",
      "from PIL import ImageEnhance\n",
      "from PIL import ImageDraw\n",
      "import random\n",
      "import os\n",
      "from PIL import ImageChops\n"
     ],
     "language": "python",
     "metadata": {},
     "outputs": [],
     "prompt_number": 413
    },
    {
     "cell_type": "code",
     "collapsed": false,
     "input": [
      "artimgs = ('/home/wcmckee/Pictures/art/wp-content/uploads/2013/02')"
     ],
     "language": "python",
     "metadata": {},
     "outputs": [],
     "prompt_number": 414
    },
    {
     "cell_type": "code",
     "collapsed": false,
     "input": [
      "os.chdir(artimgs)"
     ],
     "language": "python",
     "metadata": {},
     "outputs": [],
     "prompt_number": 415
    },
    {
     "cell_type": "code",
     "collapsed": false,
     "input": [
      "class Backup(object):\n",
      "    def findfiles(self, filestring):\n",
      "        filecur = os.listdir(os.curdir)\n",
      "        for filename in filecur:\n",
      "            if filestring in filename:\n",
      "                yield filename"
     ],
     "language": "python",
     "metadata": {},
     "outputs": [],
     "prompt_number": 416
    },
    {
     "cell_type": "code",
     "collapsed": false,
     "input": [
      "app = Backup()"
     ],
     "language": "python",
     "metadata": {},
     "outputs": [],
     "prompt_number": 417
    },
    {
     "cell_type": "code",
     "collapsed": false,
     "input": [
      "photolist = []"
     ],
     "language": "python",
     "metadata": {},
     "outputs": [],
     "prompt_number": 418
    },
    {
     "cell_type": "code",
     "collapsed": false,
     "input": [
      "for aviz in app.findfiles('1024x682.jpg'):\n",
      "    photolist.append(aviz)"
     ],
     "language": "python",
     "metadata": {},
     "outputs": [],
     "prompt_number": 419
    },
    {
     "cell_type": "code",
     "collapsed": false,
     "input": [
      "print photolist"
     ],
     "language": "python",
     "metadata": {},
     "outputs": [
      {
       "output_type": "stream",
       "stream": "stdout",
       "text": [
        "['DSC_1245-1024x682.jpg', 'DSC_87231-1024x682.jpg', 'DSC_8649-1024x682.jpg', 'DSC_1563-1024x682.jpg', 'DSC_1541-1024x682.jpg', 'DSC_8756-1024x682.jpg', 'DSC_8535-1024x682.jpg', 'DSC_8131-1024x682.jpg', 'DSC_9073-1024x682.jpg', 'DSC_8245-1024x682.jpg', 'DSC_8690-1024x682.jpg', 'DSC_8226-1024x682.jpg', 'DSC_9581-1024x682.jpg', 'DSC_1531-1024x682.jpg', 'DSC_8368-1024x682.jpg', 'DSC_7978-1024x682.jpg', 'DSC_96351-1024x682.jpg', 'DSC_9597-1024x682.jpg', 'DSC_8478-1024x682.jpg', 'DSC_1951-1024x682.jpg', 'DSC_8927-1024x682.jpg', 'DSC_8236-1024x682.jpg', 'DSC_0061-1024x682.jpg', 'DSC_8817-1024x682.jpg', 'DSC_8786-1024x682.jpg', 'DSC_1528-1024x682.jpg', 'DSC_1960-1024x682.jpg', 'DSC_8653-1024x682.jpg', 'DSC_8552-1024x682.jpg', 'DSC_9202-1024x682.jpg', 'DSC_8408-1024x682.jpg', 'DSC_8748-1024x682.jpg', 'DSC_7478-1024x682.jpg', 'DSC_8369-1024x682.jpg', 'DSC_87171-1024x682.jpg', 'DSC_8196-1024x682.jpg', 'DSC_8026-1024x682.jpg', 'DSC_8150-1024x682.jpg', 'DSC_0636-1024x682.jpg', 'DSC_8645-1024x682.jpg', 'DSC_8315-1024x682.jpg', 'DSC_8534-1024x682.jpg', 'DSC_8457-1024x682.jpg', 'DSC_1137-1024x682.jpg', 'DSC_8938-1024x682.jpg', 'DSC_1554-1024x682.jpg', 'DSC_1922-1024x682.jpg', 'DSC_7976-1024x682.jpg', 'DSC_0954-1024x682.jpg', 'DSC_8501-1024x682.jpg', 'DSC_8744-1024x682.jpg', 'DSC_8777-1024x682.jpg', 'DSC_1548-1024x682.jpg', 'DSC_8688-1024x682.jpg', 'DSC_8713-1024x682.jpg', 'DSC_8500-1024x682.jpg', 'DSC_8935-1024x682.jpg', 'DSC_8395-1024x682.jpg', 'DSC_8494-1024x682.jpg', 'DSC_8940-1024x682.jpg', 'DSC_9622-1024x682.jpg', 'DSC_8497-1024x682.jpg', 'DSC_8166-1024x682.jpg', 'DSC_8070-1024x682.jpg', 'DSC_8013-1024x682.jpg', 'DSC_7072-1024x682.jpg', 'DSC_1635-1024x682.jpg', 'DSC_8753-1024x682.jpg', 'DSC_7444-1024x682.jpg', 'DSC_7446-1024x682.jpg', 'DSC_8062-1024x682.jpg', 'DSC_8743-1024x682.jpg', 'DSC_7086-1024x682.jpg', 'DSC_87271-1024x682.jpg', 'DSC_8735-1024x682.jpg', 'DSC_8871-1024x682.jpg', 'DSC_0241-1024x682.jpg', 'DSC_9226-1024x682.jpg', 'DSC_7944-1024x682.jpg', 'DSC_8635-1024x682.jpg', 'DSC_1558-1024x682.jpg', 'DSC_1564-1024x682.jpg', 'DSC_7615-1024x682.jpg', 'DSC_9184-1024x682.jpg', 'DSC_7893-1024x682.jpg', 'DSC_9588-1024x682.jpg', 'DSC_8247-1024x682.jpg', 'DSC_8194-1024x682.jpg', 'DSC_8603-1024x682.jpg', 'DSC_8482-1024x682.jpg', 'DSC_0031-1024x682.jpg', 'DSC_8440-1024x682.jpg', 'DSC_8197-1024x682.jpg', 'DSC_8147-1024x682.jpg', 'DSC_7495-1024x682.jpg', 'DSC_7857-1024x682.jpg', 'DSC_8086-1024x682.jpg', 'DSC_1957-1024x682.jpg', 'DSC_7968-1024x682.jpg', 'DSC_9633-1024x682.jpg', 'DSC_8752-1024x682.jpg', 'DSC_7925-1024x682.jpg', 'DSC_8897-1024x682.jpg', 'DSC_8489-1024x682.jpg', 'DSC_8033-1024x682.jpg', 'DSC_1000-1024x682.jpg', 'DSC_7629-1024x682.jpg', 'DSC_0326-1024x682.jpg', 'DSC_2006-1024x682.jpg', 'DSC_8652-1024x682.jpg', 'DSC_7962-1024x682.jpg', 'DSC_0987-1024x682.jpg', 'DSC_8317-1024x682.jpg', 'DSC_8428-1024x682.jpg', 'DSC_7727-1024x682.jpg', 'DSC_1601-1024x682.jpg', 'DSC_8749-1024x682.jpg', 'DSC_0645-1024x682.jpg', 'DSC_8633-1024x682.jpg', 'DSC_1970-1024x682.jpg', 'DSC_1091-1024x682.jpg', 'DSC_7617-1024x682.jpg', 'DSC_7990-1024x682.jpg', 'DSC_8532-1024x682.jpg', 'DSC_8127-1024x682.jpg', 'DSC_8680-1024x682.jpg', 'DSC_78591-1024x682.jpg', 'DSC_15411-1024x682.jpg', 'DSC_8164-1024x682.jpg', 'DSC_7623-1024x682.jpg', 'DSC_1536-1024x682.jpg', 'DSC_8508-1024x682.jpg', 'DSC_1530-1024x682.jpg', 'DSC_7724-1024x682.jpg', 'DSC_1615-1024x682.jpg', 'DSC_8009-1024x682.jpg', 'DSC_8434-1024x682.jpg', 'DSC_9222-1024x682.jpg', 'DSC_8678-1024x682.jpg', 'DSC_9227-1024x682.jpg', 'DSC_8113-1024x682.jpg', 'DSC_8538-1024x682.jpg', 'DSC_8668-1024x682.jpg', 'DSC_8662-1024x682.jpg', 'DSC_8427-1024x682.jpg', 'DSC_1918-1024x682.jpg', 'DSC_1574-1024x682.jpg', 'DSC_7965-1024x682.jpg', 'DSC_8354-1024x682.jpg', 'DSC_8244-1024x682.jpg', 'DSC_9169-1024x682.jpg', 'DSC_8919-1024x682.jpg', 'DSC_8442-1024x682.jpg', 'DSC_9640-1024x682.jpg', 'DSC_1953-1024x682.jpg', 'DSC_7835-1024x682.jpg', 'DSC_78321-1024x682.jpg', 'DSC_8163-1024x682.jpg', 'DSC_8524-1024x682.jpg', 'DSC_1917-1024x682.jpg', 'DSC_8445-1024x682.jpg', 'DSC_8132-1024x682.jpg', 'DSC_8266-1024x682.jpg', 'DSC_7846-1024x682.jpg', 'DSC_1941-1024x682.jpg', 'DSC_8391-1024x682.jpg', 'DSC_8775-1024x682.jpg', 'DSC_8430-1024x682.jpg', 'DSC_15512-1024x682.jpg', 'DSC_8877-1024x682.jpg', 'DSC_7458-1024x682.jpg', 'DSC_0641-1024x682.jpg', 'DSC_8129-1024x682.jpg', 'DSC_8252-1024x682.jpg', 'DSC_9817-1024x682.jpg', 'DSC_8540-1024x682.jpg', 'DSC_8759-1024x682.jpg', 'DSC_9609-1024x682.jpg', 'DSC_8459-1024x682.jpg', 'DSC_1971-1024x682.jpg', 'DSC_7901-1024x682.jpg', 'DSC_7716-1024x682.jpg', 'DSC_9116-1024x682.jpg', 'DSC_8448-1024x682.jpg', 'DSC_8636-1024x682.jpg', 'DSC_9142-1024x682.jpg', 'DSC_8518-1024x682.jpg', 'DSC_9070-1024x682.jpg', 'DSC_8553-1024x682.jpg', 'DSC_8706-1024x682.jpg', 'DSC_1605-1024x682.jpg', 'DSC_7694-1024x682.jpg', 'DSC_8503-1024x682.jpg', 'DSC_1100-1024x682.jpg', 'DSC_1732-1024x682.jpg', 'DSC_8064-1024x682.jpg', 'DSC_8930-1024x682.jpg', 'DSC_9218-1024x682.jpg', 'DSC_8423-1024x682.jpg', 'DSC_8048-1024x682.jpg', 'DSC_8360-1024x682.jpg', 'DSC_8083-1024x682.jpg', 'DSC_8778-1024x682.jpg', 'DSC_8554-1024x682.jpg', 'DSC_6783-1024x682.jpg', 'DSC_8060-1024x682.jpg', 'DSC_7832-1024x682.jpg', 'DSC_8466-1024x682.jpg', 'DSC_8770-1024x682.jpg', 'DSC_8523-1024x682.jpg', 'DSC_8588-1024x682.jpg', 'DSC_1542-1024x682.jpg', 'DSC_8067-1024x682.jpg', 'DSC_9205-1024x682.jpg', 'DSC_9598-1024x682.jpg', 'DSC_8519-1024x682.jpg', 'DSC_8918-1024x682.jpg', 'DSC_8608-1024x682.jpg', 'DSC_8846-1024x682.jpg', 'DSC_87201-1024x682.jpg', 'DSC_8657-1024x682.jpg', 'DSC_8168-1024x682.jpg', 'DSC_6829-1024x682.jpg', 'DSC_0943-1024x682.jpg', 'DSC_8187-1024x682.jpg', 'DSC_9148-1024x682.jpg', 'DSC_8793-1024x682.jpg', 'DSC_8709-1024x682.jpg', 'DSC_7856-1024x682.jpg', 'DSC_8228-1024x682.jpg', 'DSC_7070-1024x682.jpg', 'DSC_7715-1024x682.jpg', 'DSC_1947-1024x682.jpg', 'DSC_8876-1024x682.jpg', 'DSC_7372-1024x682.jpg', 'DSC_7999-1024x682.jpg', 'DSC_8637-1024x682.jpg', 'DSC_8924-1024x682.jpg', 'DSC_7897-1024x682.jpg', 'DSC_0075-1024x682.jpg', 'DSC_9228-1024x682.jpg', 'DSC_1552-1024x682.jpg', 'DSC_0230-1024x682.jpg', 'DSC_15371-1024x682.jpg', 'DSC_8040-1024x682.jpg', 'DSC_7902-1024x682.jpg', 'DSC_1559-1024x682.jpg', 'DSC_2002-1024x682.jpg', 'DSC_7921-1024x682.jpg', 'DSC_8570-1024x682.jpg', 'DSC_1154-1024x682.jpg', 'DSC_8246-1024x682.jpg', 'DSC_8422-1024x682.jpg', 'DSC_8513-1024x682.jpg', 'DSC_6782-1024x682.jpg', 'DSC_8717-1024x682.jpg', 'DSC_8375-1024x682.jpg', 'DSC_7836-1024x682.jpg', 'DSC_8904-1024x682.jpg', 'DSC_9231-1024x682.jpg', 'DSC_8632-1024x682.jpg', 'DSC_8926-1024x682.jpg', 'DSC_8480-1024x682.jpg', 'DSC_0082-1024x682.jpg', 'DSC_8531-1024x682.jpg', 'DSC_8145-1024x682.jpg', 'DSC_8848-1024x682.jpg', 'DSC_8175-1024x682.jpg', 'DSC_8696-1024x682.jpg', 'DSC_9575-1024x682.jpg', 'DSC_9156-1024x682.jpg', 'DSC_8167-1024x682.jpg', 'DSC_8547-1024x682.jpg', 'DSC_8843-1024x682.jpg', 'DSC_7940-1024x682.jpg', 'DSC_8661-1024x682.jpg', 'DSC_7964-1024x682.jpg', 'DSC_8109-1024x682.jpg', 'DSC_0007-1024x682.jpg', 'DSC_7378-1024x682.jpg', 'DSC_8462-1024x682.jpg', 'DSC_8564-1024x682.jpg', 'DSC_7556-1024x682.jpg', 'DSC_8068-1024x682.jpg', 'DSC_8694-1024x682.jpg', 'DSC_8154-1024x682.jpg', 'DSC_7735-1024x682.jpg', 'DSC_8324-1024x682.jpg', 'DSC_7906-1024x682.jpg', 'DSC_9223-1024x682.jpg', 'DSC_9178-1024x682.jpg', 'DSC_8584-1024x682.jpg', 'DSC_8517-1024x682.jpg', 'DSC_1614-1024x682.jpg', 'DSC_8302-1024x682.jpg', 'DSC_8643-1024x682.jpg', 'DSC_9591-1024x682.jpg', 'DSC_02331-1024x682.jpg', 'DSC_8029-1024x682.jpg', 'DSC_9635-1024x682.jpg', 'DSC_8120-1024x682.jpg', 'DSC_8251-1024x682.jpg', 'DSC_1097-1024x682.jpg', 'DSC_8776-1024x682.jpg', 'DSC_7980-1024x682.jpg', 'DSC_15421-1024x682.jpg', 'DSC_9164-1024x682.jpg', 'DSC_8550-1024x682.jpg', 'DSC_8862-1024x682.jpg', 'DSC_8509-1024x682.jpg', 'DSC_8757-1024x682.jpg', 'DSC_1578-1024x682.jpg', 'DSC_7792-1024x682.jpg', 'DSC_1129-1024x682.jpg', 'DSC_8452-1024x682.jpg', 'DSC_0640-1024x682.jpg', 'DSC_02411-1024x682.jpg', 'DSC_9195-1024x682.jpg', 'DSC_1545-1024x682.jpg', 'DSC_8781-1024x682.jpg', 'DSC_8198-1024x682.jpg', 'DSC_1585-1024x682.jpg', 'DSC_15481-1024x682.jpg', 'DSC_1913-1024x682.jpg', 'DSC_9193-1024x682.jpg', 'DSC_8502-1024x682.jpg', 'DSC_1113-1024x682.jpg', 'DSC_7963-1024x682.jpg', 'DSC_7616-1024x682.jpg', 'DSC_8780-1024x682.jpg', 'DSC_9594-1024x682.jpg', 'DSC_8374-1024x682.jpg', 'DSC_8320-1024x682.jpg', 'DSC_8373-1024x682.jpg', 'DSC_15361-1024x682.jpg', 'DSC_2354-1024x682.jpg', 'DSC_9158-1024x682.jpg', 'DSC_6789-1024x682.jpg', 'DSC_8133-1024x682.jpg', 'DSC_8235-1024x682.jpg', 'DSC_8490-1024x682.jpg', 'DSC_7625-1024x682.jpg', 'DSC_8782-1024x682.jpg', 'DSC_8937-1024x682.jpg', 'DSC_2061-1024x682.jpg', 'DSC_1556-1024x682.jpg', 'DSC_8795-1024x682.jpg', 'DSC_7282-1024x682.jpg', 'DSC_8582-1024x682.jpg', 'DSC_1932-1024x682.jpg', 'DSC_8933-1024x682.jpg', 'DSC_7941-1024x682.jpg', 'DSC_8203-1024x682.jpg', 'DSC_7905-1024x682.jpg', 'DSC_8559-1024x682.jpg', 'DSC_1551-1024x682.jpg', 'DSC_8901-1024x682.jpg', 'DSC_8384-1024x682.jpg', 'DSC_1132-1024x682.jpg', 'DSC_0097-1024x682.jpg', 'DSC_6830-1024x682.jpg', 'DSC_8755-1024x682.jpg', 'DSC_8065-1024x682.jpg', 'DSC_8161-1024x682.jpg', 'DSC_8151-1024x682.jpg', 'DSC_8543-1024x682.jpg', 'DSC_1926-1024x682.jpg', 'DSC_8907-1024x682.jpg', 'DSC_7948-1024x682.jpg', 'DSC_8761-1024x682.jpg', 'DSC_8024-1024x682.jpg', 'DSC_8702-1024x682.jpg', 'DSC_1923-1024x682.jpg', 'DSC_8136-1024x682.jpg', 'DSC_8177-1024x682.jpg', 'DSC_1943-1024x682.jpg', 'DSC_8860-1024x682.jpg', 'DSC_7562-1024x682.jpg', 'DSC_9595-1024x682.jpg', 'DSC_8604-1024x682.jpg', 'DSC_0635-1024x682.jpg', 'DSC_9071-1024x682.jpg', 'DSC_8555-1024x682.jpg', 'DSC_15511-1024x682.jpg', 'DSC_1942-1024x682.jpg', 'DSC_8417-1024x682.jpg', 'DSC_1688-1024x682.jpg', 'DSC_8454-1024x682.jpg', 'DSC_8507-1024x682.jpg', 'DSC_8785-1024x682.jpg', 'DSC_7917-1024x682.jpg', 'DSC_7916-1024x682.jpg', 'DSC_9589-1024x682.jpg', 'DSC_1933-1024x682.jpg', 'DSC_8809-1024x682.jpg', 'DSC_8353-1024x682.jpg', 'DSC_8195-1024x682.jpg', 'DSC_8805-1024x682.jpg', 'DSC_8934-1024x682.jpg', 'DSC_8141-1024x682.jpg', 'DSC_8763-1024x682.jpg', 'DSC_8444-1024x682.jpg', 'DSC_19211-1024x682.jpg', 'DSC_8485-1024x682.jpg', 'DSC_1550-1024x682.jpg', 'DSC_9155-1024x682.jpg', 'DSC_8819-1024x682.jpg', 'DSC_8854-1024x682.jpg', 'DSC_7952-1024x682.jpg', 'DSC_1553-1024x682.jpg', 'DSC_7306-1024x682.jpg', 'DSC_7549-1024x682.jpg', 'DSC_8072-1024x682.jpg', 'DSC_8140-1024x682.jpg', 'DSC_8400-1024x682.jpg', 'DSC_7862-1024x682.jpg', 'DSC_8381-1024x682.jpg', 'DSC_87211-1024x682.jpg', 'DSC_8863-1024x682.jpg', 'DSC_8352-1024x682.jpg', 'DSC_8721-1024x682.jpg', 'DSC_87241-1024x682.jpg', 'DSC_7845-1024x682.jpg', 'DSC_8874-1024x682.jpg', 'DSC_8546-1024x682.jpg', 'DSC_8516-1024x682.jpg', 'DSC_7907-1024x682.jpg', 'DSC_1560-1024x682.jpg', 'DSC_8084-1024x682.jpg', 'DSC_0227-1024x682.jpg', 'DSC_8511-1024x682.jpg', 'DSC_8460-1024x682.jpg', 'DSC_7860-1024x682.jpg', 'DSC_92201-1024x682.jpg', 'DSC_9574-1024x682.jpg', 'DSC_8152-1024x682.jpg', 'DSC_7949-1024x682.jpg', 'DSC_7903-1024x682.jpg', 'DSC_1935-1024x682.jpg', 'DSC_7439-1024x682.jpg', 'DSC_7433-1024x682.jpg', 'DSC_8870-1024x682.jpg', 'DSC_8392-1024x682.jpg', 'DSC_9204-1024x682.jpg', 'DSC_8923-1024x682.jpg', 'DSC_7895-1024x682.jpg', 'DSC_8191-1024x682.jpg', 'DSC_7377-1024x682.jpg', 'DSC_6781-1024x682.jpg', 'DSC_8583-1024x682.jpg', 'DSC_1955-1024x682.jpg', 'DSC_15391-1024x682.jpg', 'DSC_8135-1024x682.jpg', 'DSC_7958-1024x682.jpg', 'DSC_7957-1024x682.jpg', 'DSC_9634-1024x682.jpg', 'DSC_8614-1024x682.jpg', 'DSC_7568-1024x682.jpg', 'DSC_0251-1024x682.jpg', 'DSC_8209-1024x682.jpg', 'DSC_8890-1024x682.jpg', 'DSC_8093-1024x682.jpg', 'DSC_9612-1024x682.jpg', 'DSC_9232-1024x682.jpg', 'DSC_7866-1024x682.jpg', 'DSC_7719-1024x682.jpg', 'DSC_8731-1024x682.jpg', 'DSC_7437-1024x682.jpg', 'DSC_8421-1024x682.jpg', 'DSC_8576-1024x682.jpg', 'DSC_9645-1024x682.jpg', 'DSC_8461-1024x682.jpg', 'DSC_8439-1024x682.jpg', 'DSC_8861-1024x682.jpg', 'DSC_2004-1024x682.jpg', 'DSC_15531-1024x682.jpg', 'DSC_7936-1024x682.jpg', 'DSC_7486-1024x682.jpg', 'DSC_8928-1024x682.jpg', 'DSC_8779-1024x682.jpg', 'DSC_9066-1024x682.jpg', 'DSC_8610-1024x682.jpg', 'DSC_8794-1024x682.jpg', 'DSC_8889-1024x682.jpg', 'DSC_8864-1024x682.jpg', 'DSC_9592-1024x682.jpg', 'DSC_8378-1024x682.jpg', 'DSC_8027-1024x682.jpg', 'DSC_8451-1024x682.jpg', 'DSC_8557-1024x682.jpg', 'DSC_1617-1024x682.jpg', 'DSC_8522-1024x682.jpg', 'DSC_9408-1024x682.jpg', 'DSC_0660-1024x682.jpg', 'DSC_7959-1024x682.jpg', 'DSC_8642-1024x682.jpg', 'DSC_9568-1024x682.jpg', 'DSC_7904-1024x682.jpg', 'DSC_7436-1024x682.jpg', 'DSC_8237-1024x682.jpg', 'DSC_9068-1024x682.jpg', 'DSC_1956-1024x682.jpg', 'DSC_8468-1024x682.jpg', 'DSC_9590-1024x682.jpg', 'DSC_0260-1024x682.jpg', 'DSC_8425-1024x682.jpg', 'DSC_8458-1024x682.jpg', 'DSC_8371-1024x682.jpg', 'DSC_8705-1024x682.jpg', 'DSC_8542-1024x682.jpg', 'DSC_8031-1024x682.jpg', 'DSC_8667-1024x682.jpg', 'DSC_9584-1024x682.jpg', 'DSC_8541-1024x682.jpg', 'DSC_8393-1024x682.jpg', 'DSC_1537-1024x682.jpg', 'DSC_0259-1024x682.jpg', 'DSC_8575-1024x682.jpg', 'DSC_1120-1024x682.jpg', 'DSC_8746-1024x682.jpg', 'DSC_8407-1024x682.jpg', 'DSC_8085-1024x682.jpg', 'DSC_8675-1024x682.jpg', 'DSC_8902-1024x682.jpg', 'DSC_8178-1024x682.jpg', 'DSC_8121-1024x682.jpg', 'DSC_8849-1024x682.jpg', 'DSC_8366-1024x682.jpg', 'DSC_9576-1024x682.jpg', 'DSC_8620-1024x682.jpg', 'DSC_8124-1024x682.jpg', 'DSC_0946-1024x682.jpg', 'DSC_7305-1024x682.jpg', 'DSC_9727-1024x682.jpg', 'DSC_8325-1024x682.jpg', 'DSC_8038-1024x682.jpg', 'DSC_1555-1024x682.jpg', 'DSC_8424-1024x682.jpg', 'DSC_8146-1024x682.jpg', 'DSC_8853-1024x682.jpg', 'DSC_7848-1024x682.jpg', 'DSC_7435-1024x682.jpg', 'DSC_7548-1024x682.jpg', 'DSC_8142-1024x682.jpg', 'DSC_8465-1024x682.jpg', 'DSC_15501-1024x682.jpg', 'DSC_8769-1024x682.jpg', 'DSC_1561-1024x682.jpg', 'DSC_7614-1024x682.jpg', 'DSC_8385-1024x682.jpg', 'DSC_8754-1024x682.jpg', 'DSC_7280-1024x682.jpg', 'DSC_96401-1024x682.jpg', 'DSC_0011-1024x682.jpg', 'DSC_1619-1024x682.jpg', 'DSC_2005-1024x682.jpg', 'DSC_9170-1024x682.jpg', 'DSC_8435-1024x682.jpg', 'DSC_8180-1024x682.jpg', 'DSC_8242-1024x682.jpg', 'DSC_7946-1024x682.jpg', 'DSC_7981-1024x682.jpg', 'DSC_6816-1024x682.jpg', 'DSC_8496-1024x682.jpg', 'DSC_8648-1024x682.jpg', 'DSC_9766-1024x682.jpg', 'DSC_1937-1024x682.jpg', 'DSC_8481-1024x682.jpg', 'DSC_1544-1024x682.jpg', 'DSC_8479-1024x682.jpg', 'DSC_1676-1024x682.jpg', 'DSC_8881-1024x682.jpg', 'DSC_1940-1024x682.jpg', 'DSC_8463-1024x682.jpg', 'DSC_8685-1024x682.jpg', 'DSC_1972-1024x682.jpg', 'DSC_9755-1024x682.jpg', 'DSC_8852-1024x682.jpg', 'DSC_8783-1024x682.jpg', 'DSC_8432-1024x682.jpg', 'DSC_1939-1024x682.jpg', 'DSC_7628-1024x682.jpg', 'DSC_7759-1024x682.jpg', 'DSC_9185-1024x682.jpg', 'DSC_7733-1024x682.jpg', 'DSC_9221-1024x682.jpg', 'DSC_8701-1024x682.jpg', 'DSC_7577-1024x682.jpg', 'DSC_8724-1024x682.jpg', 'DSC_7779-1024x682.jpg', 'DSC_9803-1024x682.jpg', 'DSC_8484-1024x682.jpg', 'DSC_02641-1024x682.jpg', 'DSC_8922-1024x682.jpg', 'DSC_8914-1024x682.jpg', 'DSC_2008-1024x682.jpg', 'DSC_8539-1024x682.jpg', 'DSC_8420-1024x682.jpg', 'DSC_8681-1024x682.jpg', 'DSC_7431-1024x682.jpg', 'DSC_8896-1024x682.jpg', 'DSC_1920-1024x682.jpg', 'DSC_8660-1024x682.jpg', 'DSC_1946-1024x682.jpg', 'DSC_1042-1024x682.jpg', 'DSC_0302-1024x682.jpg', 'DSC_7975-1024x682.jpg', 'DSC_8679-1024x682.jpg', 'DSC_0223-1024x682.jpg', 'DSC_1954-1024x682.jpg', 'DSC_7763-1024x682.jpg', 'DSC_9758-1024x682.jpg', 'DSC_8450-1024x682.jpg', 'DSC_8931-1024x682.jpg', 'DSC_8372-1024x682.jpg', 'DSC_9120-1024x682.jpg', 'DSC_7919-1024x682.jpg', 'DSC_8803-1024x682.jpg', 'DSC_8030-1024x682.jpg', 'DSC_8447-1024x682.jpg', 'DSC_6822-1024x682.jpg', 'DSC_7960-1024x682.jpg', 'DSC_8498-1024x682.jpg', 'DSC_7374-1024x682.jpg', 'DSC_7833-1024x682.jpg', 'DSC_8495-1024x682.jpg', 'DSC_8723-1024x682.jpg', 'DSC_7077-1024x682.jpg', 'DSC_8712-1024x682.jpg', 'DSC_9417-1024x682.jpg', 'DSC_7308-1024x682.jpg', 'DSC_8891-1024x682.jpg', 'DSC_8586-1024x682.jpg', 'DSC_9217-1024x682.jpg', 'DSC_8059-1024x682.jpg', 'DSC_8646-1024x682.jpg', 'DSC_8075-1024x682.jpg', 'DSC_8760-1024x682.jpg', 'DSC_74581-1024x682.jpg', 'DSC_8613-1024x682.jpg', 'DSC_9586-1024x682.jpg', 'DSC_8888-1024x682.jpg', 'DSC_8066-1024x682.jpg', 'DSC_1538-1024x682.jpg', 'DSC_7777-1024x682.jpg', 'DSC_8039-1024x682.jpg', 'DSC_1945-1024x682.jpg', 'DSC_9593-1024x682.jpg', 'DSC_8117-1024x682.jpg', 'DSC_8567-1024x682.jpg', 'DSC_8361-1024x682.jpg', 'DSC_8602-1024x682.jpg', 'DSC_8433-1024x682.jpg', 'DSC_8758-1024x682.jpg', 'DSC_7487-1024x682.jpg', 'DSC_8751-1024x682.jpg', 'DSC_8558-1024x682.jpg', 'DSC_1952-1024x682.jpg', 'DSC_1931-1024x682.jpg', 'DSC_8560-1024x682.jpg', 'DSC_8579-1024x682.jpg', 'DSC_8936-1024x682.jpg', 'DSC_8184-1024x682.jpg', 'DSC_8556-1024x682.jpg', 'DSC_8390-1024x682.jpg', 'DSC_8627-1024x682.jpg', 'DSC_0019-1024x682.jpg', 'DSC_1944-1024x682.jpg', 'DSC_9220-1024x682.jpg', 'DSC_8788-1024x682.jpg', 'DSC_7469-1024x682.jpg', 'DSC_8673-1024x682.jpg', 'DSC_0264-1024x682.jpg', 'DSC_17311-1024x682.jpg', 'DSC_8438-1024x682.jpg', 'DSC_0955-1024x682.jpg', 'DSC_8312-1024x682.jpg', 'DSC_8879-1024x682.jpg', 'DSC_8311-1024x682.jpg', 'DSC_8789-1024x682.jpg', 'DSC_7998-1024x682.jpg', 'DSC_8398-1024x682.jpg', 'DSC_8314-1024x682.jpg', 'DSC_1962-1024x682.jpg', 'DSC_1929-1024x682.jpg', 'DSC_9644-1024x682.jpg', 'DSC_7859-1024x682.jpg', 'DSC_9578-1024x682.jpg', 'DSC_7686-1024x682.jpg', 'DSC_9643-1024x682.jpg', 'DSC_8932-1024x682.jpg', 'DSC_9122-1024x682.jpg', 'DSC_8856-1024x682.jpg', 'DSC_8728-1024x682.jpg', 'DSC_8076-1024x682.jpg', 'DSC_76091-1024x682.jpg', 'DSC_8772-1024x682.jpg', 'DSC_8651-1024x682.jpg', 'DSC_1682-1024x682.jpg', 'DSC_8092-1024x682.jpg', 'DSC_9133-1024x682.jpg', 'DSC_0668-1024x682.jpg', 'DSC_7729-1024x682.jpg', 'DSC_15412-1024x682.jpg', 'DSC_8043-1024x682.jpg', 'DSC_7464-1024x682.jpg', 'DSC_7900-1024x682.jpg', 'DSC_8562-1024x682.jpg', 'DSC_9416-1024x682.jpg', 'DSC_9788-1024x682.jpg', 'DSC_7924-1024x682.jpg', 'DSC_8158-1024x682.jpg', 'DSC_7764-1024x682.jpg', 'DSC_1927-1024x682.jpg', 'DSC_8573-1024x682.jpg', 'DSC_1924-1024x682.jpg', 'DSC_8159-1024x682.jpg', 'DSC_7909-1024x682.jpg', 'DSC_8188-1024x682.jpg', 'DSC_8916-1024x682.jpg', 'DSC_0979-1024x682.jpg', 'DSC_7691-1024x682.jpg', 'DSC_7082-1024x682.jpg', 'DSC_8506-1024x682.jpg', 'DSC_7786-1024x682.jpg', 'DSC_8581-1024x682.jpg', 'DSC_1155-1024x682.jpg', 'DSC_8654-1024x682.jpg', 'DSC_8827-1024x682.jpg', 'DSC_8323-1024x682.jpg', 'DSC_8762-1024x682.jpg', 'DSC_8774-1024x682.jpg', 'DSC_9069-1024x682.jpg', 'DSC_8739-1024x682.jpg', 'DSC_8644-1024x682.jpg', 'DSC_7993-1024x682.jpg', 'DSC_15451-1024x682.jpg', 'DSC_0048-1024x682.jpg', 'DSC_8464-1024x682.jpg', 'DSC_8639-1024x682.jpg', 'DSC_0980-1024x682.jpg', 'DSC_7894-1024x682.jpg', 'DSC_7784-1024x682.jpg', 'DSC_8474-1024x682.jpg', 'DSC_7761-1024x682.jpg', 'DSC_8367-1024x682.jpg', 'DSC_76101-1024x682.jpg', 'DSC_8686-1024x682.jpg', 'DSC_8606-1024x682.jpg', 'DSC_9224-1024x682.jpg', 'DSC_8736-1024x682.jpg', 'DSC_9175-1024x682.jpg', 'DSC_7892-1024x682.jpg', 'DSC_8329-1024x682.jpg', 'DSC_7983-1024x682.jpg', 'DSC_1629-1024x682.jpg', 'DSC_7985-1024x682.jpg', 'DSC_8355-1024x682.jpg', 'DSC_7578-1024x682.jpg', 'DSC_9139-1024x682.jpg', 'DSC_8321-1024x682.jpg', 'DSC_8362-1024x682.jpg', 'DSC_8882-1024x682.jpg', 'DSC_8347-1024x682.jpg', 'DSC_1529-1024x682.jpg', 'DSC_7726-1024x682.jpg', 'DSC_7631-1024x682.jpg', 'DSC_8813-1024x682.jpg', 'DSC_1164-1024x682.jpg', 'DSC_8536-1024x682.jpg', 'DSC_1919-1024x682.jpg', 'DSC_0984-1024x682.jpg', 'DSC_8720-1024x682.jpg', 'DSC_8676-1024x682.jpg', 'DSC_7967-1024x682.jpg', 'DSC_8880-1024x682.jpg', 'DSC_9063-1024x682.jpg', 'DSC_7482-1024x682.jpg', 'DSC_0950-1024x682.jpg', 'DSC_8241-1024x682.jpg', 'DSC_8921-1024x682.jpg', 'DSC_8791-1024x682.jpg', 'DSC_15392-1024x682.jpg', 'DSC_8514-1024x682.jpg', 'DSC_1938-1024x682.jpg', 'DSC_8816-1024x682.jpg', 'DSC_8734-1024x682.jpg', 'DSC_7544-1024x682.jpg', 'DSC_9840-1024x682.jpg', 'DSC_8370-1024x682.jpg', 'DSC_8105-1024x682.jpg', 'DSC_8878-1024x682.jpg', 'DSC_8492-1024x682.jpg', 'DSC_1627-1024x682.jpg', 'DSC_8894-1024x682.jpg', 'DSC_2003-1024x682.jpg', 'DSC_02271-1024x682.jpg', 'DSC_8386-1024x682.jpg', 'DSC_8446-1024x682.jpg', 'DSC_8202-1024x682.jpg', 'DSC_8689-1024x682.jpg', 'DSC_8741-1024x682.jpg', 'DSC_7688-1024x682.jpg', 'DSC_7712-1024x682.jpg', 'DSC_7706-1024x682.jpg', 'DSC_0058-1024x682.jpg', 'DSC_7973-1024x682.jpg', 'DSC_8153-1024x682.jpg', 'DSC_1921-1024x682.jpg', 'DSC_7774-1024x682.jpg', 'DSC_9198-1024x682.jpg', 'DSC_8426-1024x682.jpg', 'DSC_8784-1024x682.jpg', 'DSC_8869-1024x682.jpg', 'DSC_7626-1024x682.jpg', 'DSC_8895-1024x682.jpg', 'DSC_8790-1024x682.jpg', 'DSC_9605-1024x682.jpg', 'DSC_0025-1024x682.jpg', 'DSC_8767-1024x682.jpg', 'DSC_8727-1024x682.jpg', 'DSC_8169-1024x682.jpg', 'DSC_1539-1024x682.jpg', 'DSC_8469-1024x682.jpg', 'DSC_9842-1024x682.jpg', 'DSC_7703-1024x682.jpg', 'DSC_8476-1024x682.jpg', 'DSC_8747-1024x682.jpg', 'DSC_15381-1024x682.jpg', 'DSC_0239-1024x682.jpg', 'DSC_8293-1024x682.jpg', 'DSC_8467-1024x682.jpg', 'DSC_9607-1024x682.jpg', 'DSC_9626-1024x682.jpg', 'DSC_8387-1024x682.jpg', 'DSC_0236-1024x682.jpg', 'DSC_7955-1024x682.jpg', 'DSC_9596-1024x682.jpg', 'DSC_7708-1024x682.jpg', 'DSC_8162-1024x682.jpg', 'DSC_8806-1024x682.jpg', 'DSC_7942-1024x682.jpg', 'DSC_7977-1024x682.jpg', 'DSC_7455-1024x682.jpg', 'DSC_1166-1024x682.jpg', 'DSC_1054-1024x682.jpg', 'DSC_8487-1024x682.jpg', 'DSC_9216-1024x682.jpg', 'DSC_1238-1024x682.jpg', 'DSC_8929-1024x682.jpg', 'DSC_15441-1024x682.jpg', 'DSC_8740-1024x682.jpg', 'DSC_9123-1024x682.jpg', 'DSC_7918-1024x682.jpg', 'DSC_1959-1024x682.jpg', 'DSC_8796-1024x682.jpg', 'DSC_9621-1024x682.jpg', 'DSC_9072-1024x682.jpg', 'DSC_8157-1024x682.jpg', 'DSC_8750-1024x682.jpg', 'DSC_8149-1024x682.jpg', 'DSC_8733-1024x682.jpg', 'DSC_7619-1024x682.jpg', 'DSC_8412-1024x682.jpg', 'DSC_8359-1024x682.jpg', 'DSC_8585-1024x682.jpg', 'DSC_8220-1024x682.jpg', 'DSC_0947-1024x682.jpg', 'DSC_9074-1024x682.jpg', 'DSC_8255-1024x682.jpg', 'DSC_8939-1024x682.jpg', 'DSC_8768-1024x682.jpg', 'DSC_7496-1024x682.jpg', 'DSC_9739-1024x682.jpg', 'DSC_1949-1024x682.jpg', 'DSC_8239-1024x682.jpg', 'DSC_0990-1024x682.jpg', 'DSC_7847-1024x682.jpg', 'DSC_8436-1024x682.jpg', 'DSC_8687-1024x682.jpg', 'DSC_9721-1024x682.jpg', 'DSC_8527-1024x682.jpg', 'DSC_8437-1024x682.jpg', 'DSC_8700-1024x682.jpg', 'DSC_9131-1024x682.jpg', 'DSC_8572-1024x682.jpg', 'DSC_8356-1024x682.jpg', 'DSC_8110-1024x682.jpg', 'DSC_1562-1024x682.jpg', 'DSC_8917-1024x682.jpg', 'DSC_8419-1024x682.jpg', 'DSC_8855-1024x682.jpg', 'DSC_9219-1024x682.jpg', 'DSC_1928-1024x682.jpg', 'DSC_1141-1024x682.jpg', 'DSC_7610-1024x682.jpg', 'DSC_7711-1024x682.jpg', 'DSC_8134-1024x682.jpg', 'DSC_8358-1024x682.jpg', 'DSC_8823-1024x682.jpg', 'DSC_8565-1024x682.jpg', 'DSC_0233-1024x682.jpg', 'DSC_8766-1024x682.jpg', 'DSC_7307-1024x682.jpg', 'DSC_8905-1024x682.jpg', 'DSC_1731-1024x682.jpg', 'DSC_8903-1024x682.jpg', 'DSC_1125-1024x682.jpg', 'DSC_1150-1024x682.jpg', 'DSC_1693-1024x682.jpg', 'DSC_9412-1024x682.jpg', 'DSC_15521-1024x682.jpg', 'DSC_8443-1024x682.jpg', 'DSC_8351-1024x682.jpg', 'DSC_7609-1024x682.jpg', 'DSC_1532-1024x682.jpg', 'DSC_8537-1024x682.jpg', 'DSC_7937-1024x682.jpg', 'DSC_8192-1024x682.jpg', 'DSC_8080-1024x682.jpg', 'DSC_8808-1024x682.jpg', 'DSC_8658-1024x682.jpg', 'DSC_8695-1024x682.jpg', 'DSC_8566-1024x682.jpg', 'DSC_1533-1024x682.jpg', 'DSC_9583-1024x682.jpg', 'DSC_8130-1024x682.jpg', 'DSC_7475-1024x682.jpg', 'DSC_8316-1024x682.jpg', 'DSC_8640-1024x682.jpg', 'DSC_8032-1024x682.jpg', 'DSC_8764-1024x682.jpg', 'DSC_9134-1024x682.jpg', 'DSC_8173-1024x682.jpg', 'DSC_8265-1024x682.jpg', 'DSC_8714-1024x682.jpg', 'DSC_1527-1024x682.jpg', 'DSC_79361-1024x682.jpg', 'DSC_0978-1024x682.jpg', 'DSC_9846-1024x682.jpg', 'DSC_8847-1024x682.jpg', 'DSC_8873-1024x682.jpg', 'DSC_1969-1024x682.jpg', 'DSC_8431-1024x682.jpg', 'DSC_8429-1024x682.jpg', 'DSC_1936-1024x682.jpg', 'DSC_8138-1024x682.jpg', 'DSC_8499-1024x682.jpg', 'DSC_7375-1024x682.jpg', 'DSC_9419-1024x682.jpg', 'DSC_8571-1024x682.jpg', 'DSC_8920-1024x682.jpg', 'DSC_8037-1024x682.jpg', 'DSC_8493-1024x682.jpg', 'DSC_8765-1024x682.jpg', 'DSC_9407-1024x682.jpg', 'DSC_8082-1024x682.jpg', 'DSC_8418-1024x682.jpg', 'DSC_7083-1024x682.jpg', 'DSC_8551-1024x682.jpg', 'DSC_7718-1024x682.jpg', 'DSC_8820-1024x682.jpg', 'DSC_7929-1024x682.jpg', 'DSC_8310-1024x682.jpg', 'DSC_8925-1024x682.jpg', 'DSC_8144-1024x682.jpg', 'DSC_8745-1024x682.jpg', 'DSC_8061-1024x682.jpg', 'DSC_8057-1024x682.jpg', 'DSC_8587-1024x682.jpg', 'DSC_0940-1024x682.jpg', 'DSC_7480-1024x682.jpg', 'DSC_1671-1024x682.jpg', 'DSC_8773-1024x682.jpg', 'DSC_8389-1024x682.jpg', 'DSC_7954-1024x682.jpg', 'DSC_7440-1024x682.jpg', 'DSC_8475-1024x682.jpg', 'DSC_8160-1024x682.jpg', 'DSC_8107-1024x682.jpg', 'DSC_8729-1024x682.jpg', 'DSC_8605-1024x682.jpg', 'DSC_8441-1024x682.jpg', 'DSC_8449-1024x682.jpg', 'DSC_8858-1024x682.jpg', 'DSC_8549-1024x682.jpg']\n"
       ]
      }
     ],
     "prompt_number": 420
    },
    {
     "cell_type": "code",
     "collapsed": false,
     "input": [
      "photoamou = len(photolist)"
     ],
     "language": "python",
     "metadata": {},
     "outputs": [],
     "prompt_number": 421
    },
    {
     "cell_type": "code",
     "collapsed": false,
     "input": [
      "ranznum = random.randint(0, photoamou)"
     ],
     "language": "python",
     "metadata": {},
     "outputs": [],
     "prompt_number": 422
    },
    {
     "cell_type": "code",
     "collapsed": false,
     "input": [
      "doubnum = ranznum + 1"
     ],
     "language": "python",
     "metadata": {},
     "outputs": [],
     "prompt_number": 423
    },
    {
     "cell_type": "code",
     "collapsed": false,
     "input": [
      "chdirz = photolist[ranznum]"
     ],
     "language": "python",
     "metadata": {},
     "outputs": [],
     "prompt_number": 424
    },
    {
     "cell_type": "code",
     "collapsed": false,
     "input": [
      "chdirz2 = photolist[doubnum]"
     ],
     "language": "python",
     "metadata": {},
     "outputs": [],
     "prompt_number": 425
    },
    {
     "cell_type": "code",
     "collapsed": false,
     "input": [
      "print chdirz2\n",
      "print chdirz"
     ],
     "language": "python",
     "metadata": {},
     "outputs": [
      {
       "output_type": "stream",
       "stream": "stdout",
       "text": [
        "DSC_8093-1024x682.jpg\n",
        "DSC_8890-1024x682.jpg\n"
       ]
      }
     ],
     "prompt_number": 426
    },
    {
     "cell_type": "code",
     "collapsed": false,
     "input": [
      "img2 = Image.open(chdirz)"
     ],
     "language": "python",
     "metadata": {},
     "outputs": [],
     "prompt_number": 427
    },
    {
     "cell_type": "code",
     "collapsed": false,
     "input": [
      "imgza2 = Image.open(chdirz2)"
     ],
     "language": "python",
     "metadata": {},
     "outputs": [],
     "prompt_number": 428
    },
    {
     "cell_type": "code",
     "collapsed": false,
     "input": [
      "imgAgain = img2.rotate(180)"
     ],
     "language": "python",
     "metadata": {},
     "outputs": [],
     "prompt_number": 429
    },
    {
     "cell_type": "code",
     "collapsed": false,
     "input": [],
     "language": "python",
     "metadata": {},
     "outputs": [],
     "prompt_number": 429
    },
    {
     "cell_type": "code",
     "collapsed": false,
     "input": [
      "imgSapz = ImageChops.lighter(imgAgain, img2)"
     ],
     "language": "python",
     "metadata": {},
     "outputs": [],
     "prompt_number": 430
    },
    {
     "cell_type": "code",
     "collapsed": false,
     "input": [
      "imgCepz = ImageChops.darker(imgza2, imgSapz)"
     ],
     "language": "python",
     "metadata": {},
     "outputs": [],
     "prompt_number": 431
    },
    {
     "cell_type": "code",
     "collapsed": false,
     "input": [
      "enzSapz = ImageChops.subtract(imgSapz, img2)"
     ],
     "language": "python",
     "metadata": {},
     "outputs": [],
     "prompt_number": 432
    },
    {
     "cell_type": "code",
     "collapsed": false,
     "input": [
      "imgLower = ImageChops.constant(imgAgain, 2)"
     ],
     "language": "python",
     "metadata": {},
     "outputs": [],
     "prompt_number": 433
    },
    {
     "cell_type": "code",
     "collapsed": false,
     "input": [
      "imgOver = ImageEnhance.Brightness(imgLower)"
     ],
     "language": "python",
     "metadata": {},
     "outputs": [],
     "prompt_number": 434
    },
    {
     "cell_type": "code",
     "collapsed": false,
     "input": [
      "imgTitle = Image.open(chdirz)"
     ],
     "language": "python",
     "metadata": {},
     "outputs": [],
     "prompt_number": 435
    },
    {
     "cell_type": "code",
     "collapsed": false,
     "input": [
      "imgComt = ImageChops.blend(imgTitle, enzSapz, .5)"
     ],
     "language": "python",
     "metadata": {},
     "outputs": [],
     "prompt_number": 436
    },
    {
     "cell_type": "code",
     "collapsed": false,
     "input": [
      "imgConvertz = ImageEnhance.Color(imgComt)"
     ],
     "language": "python",
     "metadata": {},
     "outputs": [],
     "prompt_number": 437
    },
    {
     "cell_type": "code",
     "collapsed": false,
     "input": [
      "img3 = ImageChops.screen(imgComt, img2)"
     ],
     "language": "python",
     "metadata": {},
     "outputs": [],
     "prompt_number": 438
    },
    {
     "cell_type": "code",
     "collapsed": false,
     "input": [
      "\n",
      "bighImg = ImageChops.darker(img2, imgComt)"
     ],
     "language": "python",
     "metadata": {},
     "outputs": [],
     "prompt_number": 439
    },
    {
     "cell_type": "code",
     "collapsed": false,
     "input": [
      "screen = ImageChops.difference(imgAgain,img2)"
     ],
     "language": "python",
     "metadata": {},
     "outputs": [],
     "prompt_number": 440
    },
    {
     "cell_type": "code",
     "collapsed": false,
     "input": [
      "brightLight = ImageEnhance.Brightness(screen)"
     ],
     "language": "python",
     "metadata": {},
     "outputs": [],
     "prompt_number": 441
    },
    {
     "cell_type": "code",
     "collapsed": false,
     "input": [
      "lightFilz = ImageChops.lighter(screen, img2)"
     ],
     "language": "python",
     "metadata": {},
     "outputs": [],
     "prompt_number": 442
    },
    {
     "cell_type": "code",
     "collapsed": false,
     "input": [
      "imgSwap = ImageChops.difference(lightFilz, img2)"
     ],
     "language": "python",
     "metadata": {},
     "outputs": [],
     "prompt_number": 443
    },
    {
     "cell_type": "code",
     "collapsed": false,
     "input": [
      "lightXus = ImageChops.darker(img2, imgSwap)\n"
     ],
     "language": "python",
     "metadata": {},
     "outputs": [],
     "prompt_number": 444
    },
    {
     "cell_type": "code",
     "collapsed": false,
     "input": [
      "lightGone = ImageChops.invert(lightXus)"
     ],
     "language": "python",
     "metadata": {},
     "outputs": [],
     "prompt_number": 445
    },
    {
     "cell_type": "code",
     "collapsed": false,
     "input": [
      "fileSwap = ImageChops.lighter(lightGone, img2)"
     ],
     "language": "python",
     "metadata": {},
     "outputs": [],
     "prompt_number": 446
    },
    {
     "cell_type": "code",
     "collapsed": false,
     "input": [
      "draw = ImageDraw.Draw(lightFilz)"
     ],
     "language": "python",
     "metadata": {},
     "outputs": [],
     "prompt_number": 447
    },
    {
     "cell_type": "code",
     "collapsed": false,
     "input": [
      "bakColr = (183,203,235)"
     ],
     "language": "python",
     "metadata": {},
     "outputs": [],
     "prompt_number": 448
    },
    {
     "cell_type": "code",
     "collapsed": false,
     "input": [
      "draw.rectangle([(0, 0), (1920, 150)], fill='black')"
     ],
     "language": "python",
     "metadata": {},
     "outputs": [],
     "prompt_number": 449
    },
    {
     "cell_type": "code",
     "collapsed": false,
     "input": [
      "draw.rectangle([(0, 500), (1920, 1080)], fill='black')"
     ],
     "language": "python",
     "metadata": {},
     "outputs": [],
     "prompt_number": 450
    },
    {
     "cell_type": "code",
     "collapsed": false,
     "input": [
      "draw.rectangle([(90, 190), (370, 220)], fill=bakColr)"
     ],
     "language": "python",
     "metadata": {},
     "outputs": [],
     "prompt_number": 451
    },
    {
     "cell_type": "code",
     "collapsed": false,
     "input": [
      "draw.rectangle([(390, 290), (740, 320)], fill=bakColr)"
     ],
     "language": "python",
     "metadata": {},
     "outputs": [],
     "prompt_number": 452
    },
    {
     "cell_type": "code",
     "collapsed": false,
     "input": [
      "draw.rectangle([(590, 390), (1100, 420)], fill=bakColr)"
     ],
     "language": "python",
     "metadata": {},
     "outputs": [],
     "prompt_number": 453
    },
    {
     "cell_type": "code",
     "collapsed": false,
     "input": [
      "del draw "
     ],
     "language": "python",
     "metadata": {},
     "outputs": [],
     "prompt_number": 454
    },
    {
     "cell_type": "code",
     "collapsed": false,
     "input": [
      "cRan = random.randint(1,30)"
     ],
     "language": "python",
     "metadata": {},
     "outputs": [],
     "prompt_number": 455
    },
    {
     "cell_type": "code",
     "collapsed": false,
     "input": [
      "#import ImageFont, ImageDraw\n",
      "\n",
      "#draw = ImageDraw.Draw(lightFilz)\n",
      "# use a truetype font\n",
      "#font = ImageFont.truetype(\"cs.ttf\", 24)\n",
      "#draw.text((100, 200), \"a film by William Mckee\", fill=(49,cRan,2),font=font)\n",
      "#draw.text((400, 300), 'Suburb Nightmare: Mist City', fill =(49,3,cRan),font=font)\n",
      "#draw.text((600, 400), 'Based on the game: Suburb Warp Nighmare', fill=(cRan,3,2), font=font)\n",
      "\n"
     ],
     "language": "python",
     "metadata": {},
     "outputs": [],
     "prompt_number": 456
    },
    {
     "cell_type": "code",
     "collapsed": false,
     "input": [
      "imgSwapz = ImageChops.difference(img2, fileSwap)"
     ],
     "language": "python",
     "metadata": {},
     "outputs": [],
     "prompt_number": 457
    },
    {
     "cell_type": "code",
     "collapsed": false,
     "input": [
      "lightFilz.show()"
     ],
     "language": "python",
     "metadata": {},
     "outputs": [],
     "prompt_number": 458
    },
    {
     "cell_type": "code",
     "collapsed": false,
     "input": [
      "imgBlack = ImageChops.darker(imgSwapz, img2)"
     ],
     "language": "python",
     "metadata": {},
     "outputs": [],
     "prompt_number": 459
    },
    {
     "cell_type": "code",
     "collapsed": false,
     "input": [
      "imgZero = ImageChops.invert(imgBlack)"
     ],
     "language": "python",
     "metadata": {},
     "outputs": [],
     "prompt_number": 411
    },
    {
     "cell_type": "code",
     "collapsed": false,
     "input": [
      "imgBlack.show()"
     ],
     "language": "python",
     "metadata": {},
     "outputs": [],
     "prompt_number": 412
    },
    {
     "cell_type": "code",
     "collapsed": false,
     "input": [],
     "language": "python",
     "metadata": {},
     "outputs": []
    }
   ],
   "metadata": {}
  }
 ]
}